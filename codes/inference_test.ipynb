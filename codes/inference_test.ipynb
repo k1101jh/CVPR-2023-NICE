{
 "cells": [
  {
   "cell_type": "code",
   "execution_count": null,
   "metadata": {},
   "outputs": [],
   "source": [
    "\n",
    "from PIL import Image\n",
    "import os\n",
    "import sys\n",
    "import csv\n",
    "import torch\n",
    "import numpy as np\n",
    "import logging\n",
    "from tqdm.notebook import tqdm\n",
    "\n",
    "from utils import get_device_map\n",
    "\n",
    "os.environ[\"TOKENIZERS_PARALLELISM\"] = \"false\"\n",
    "logging.disable(sys.maxsize)"
   ]
  },
  {
   "cell_type": "code",
   "execution_count": null,
   "metadata": {},
   "outputs": [],
   "source": [
    "devices = [1, 5, 6, 7]\n",
    "start_device = 'cuda:' + str(devices[0])"
   ]
  },
  {
   "attachments": {},
   "cell_type": "markdown",
   "metadata": {},
   "source": [
    "### Configs"
   ]
  },
  {
   "cell_type": "code",
   "execution_count": null,
   "metadata": {},
   "outputs": [],
   "source": [
    "# checkpoint = \"Salesforce/blip2-opt-2.7b\"\n",
    "# checkpoint = \"Salesforce/blip2-flan-t5-xxl\"\n",
    "checkpoint = \"Salesforce/blip2-flan-t5-xl\"\n",
    "result_file_path = '../results/coco_test_blip2.csv'\n",
    "# cache_dir = \"/mnt/nas2/kjh/huggingface_cache\"\n",
    "cache_dir = \"../caches\"\n",
    "cache_pretrained_files_dir = os.path.join(cache_dir, \"pretrained_files\")\n",
    "# saved_model_path = \"../saved_models/blip2-flan-t5-xl_5epochs/\"\n",
    "saved_model_path = \"../training_outputs/blip2-flan-t5-xl/checkpoint-3750/\"\n",
    "cache_dataset_dir = os.path.join(cache_dir, \"datasets\")\n",
    "\n",
    "\n",
    "dtype = torch.float16\n",
    "batch_size = 4\n",
    "num_workers = 8\n",
    "max_length = 50\n",
    "num_beams = 6\n",
    "length_penalty = 1          # 길이에 대한 패널티. 음수면 짧게 만들도록 유도, 양수면 길게 만들도록\n",
    "repetition_penalty = 1.5    # 반복에 대한 패널티. 1에서 inf 사이의 값. default=1\n",
    "temperature = 1             # 높으면 창의적인 값, 낮으면 자신있는 값"
   ]
  },
  {
   "attachments": {},
   "cell_type": "markdown",
   "metadata": {},
   "source": [
    "### Processor"
   ]
  },
  {
   "cell_type": "code",
   "execution_count": null,
   "metadata": {},
   "outputs": [],
   "source": [
    "from transformers import Blip2Processor\n",
    "\n",
    "processor = Blip2Processor.from_pretrained(\n",
    "    checkpoint,\n",
    "    cache_dir=cache_pretrained_files_dir,\n",
    ")\n"
   ]
  },
  {
   "attachments": {},
   "cell_type": "markdown",
   "metadata": {},
   "source": [
    "### Dataset"
   ]
  },
  {
   "cell_type": "code",
   "execution_count": null,
   "metadata": {},
   "outputs": [],
   "source": [
    "from dataset_config import nice_dataset_config\n",
    "from torch.utils.data import DataLoader\n",
    "from custom_datasets.nice_dataset import NICETestDataset\n",
    "\n",
    "nice_test_ds = NICETestDataset(\n",
    "    nice_dataset_config['test_image_folder'],\n",
    "    processor.image_processor,\n",
    ")\n",
    "\n",
    "nice_test_dataloader = DataLoader(nice_test_ds, batch_size=batch_size, num_workers=num_workers, shuffle=False, pin_memory=True)"
   ]
  },
  {
   "attachments": {},
   "cell_type": "markdown",
   "metadata": {},
   "source": [
    "### Model"
   ]
  },
  {
   "cell_type": "code",
   "execution_count": null,
   "metadata": {},
   "outputs": [],
   "source": [
    "from transformers import Blip2ForConditionalGeneration\n",
    "\n",
    "device_map = get_device_map(checkpoint, devices)\n",
    "\n",
    "model = Blip2ForConditionalGeneration.from_pretrained(\n",
    "    saved_model_path,\n",
    "    # checkpoint,\n",
    "    cache_dir=cache_pretrained_files_dir,\n",
    "    torch_dtype=dtype,\n",
    "    # device_map='auto',\n",
    "    device_map=device_map\n",
    ")"
   ]
  },
  {
   "cell_type": "code",
   "execution_count": null,
   "metadata": {},
   "outputs": [],
   "source": [
    "# Freeze\n",
    "freeze_list = [\n",
    "    model.vision_model,\n",
    "    model.qformer,\n",
    "    model.language_projection,\n",
    "    model.language_model,\n",
    "]\n",
    "\n",
    "for freeze_block in freeze_list:\n",
    "    for name, param in freeze_block.named_parameters():\n",
    "        param.requires_grad = False\n",
    "    freeze_block = freeze_block.eval()\n"
   ]
  },
  {
   "attachments": {},
   "cell_type": "markdown",
   "metadata": {},
   "source": [
    "### NICE Test"
   ]
  },
  {
   "cell_type": "code",
   "execution_count": null,
   "metadata": {},
   "outputs": [],
   "source": [
    "def denormalize_image(normalized_image, mean, std):\n",
    "    image = normalized_image.numpy().transpose(1, 2, 0)\n",
    "    image = std * image + mean\n",
    "    image = np.clip(image, 0, 1)\n",
    "    \n",
    "    return image"
   ]
  },
  {
   "cell_type": "code",
   "execution_count": null,
   "metadata": {},
   "outputs": [],
   "source": [
    "prompt_tokens = processor.tokenizer(\n",
    "    \"a photo of \", padding='max_length', max_length=max_length, return_tensors='pt'\n",
    ")\n",
    "\n",
    "def inference(dataloader, model, processor):\n",
    "    results = {\n",
    "        'public_id': [],\n",
    "        'caption': [],\n",
    "    }\n",
    "\n",
    "    for inputs, filenames in tqdm(dataloader):\n",
    "        inputs.to(start_device, dtype)\n",
    "        generated_ids = model.generate(\n",
    "            **inputs,\n",
    "            # input_ids=prompt_tokens['input_ids'].repeat(batch_size, 1),\n",
    "            num_beams=num_beams,\n",
    "            length_penalty=length_penalty,\n",
    "            repetition_penalty=repetition_penalty,\n",
    "            max_new_tokens=max_length,\n",
    "            temperature=temperature)\n",
    "        generated_texts = [text.strip() for text in processor.batch_decode(generated_ids, skip_special_tokens=True)]\n",
    "        results['public_id'] += filenames\n",
    "        results['caption'] += generated_texts\n",
    "        print(generated_texts)\n",
    "    return results"
   ]
  },
  {
   "cell_type": "code",
   "execution_count": null,
   "metadata": {},
   "outputs": [],
   "source": [
    "def save_dict_to_csv(dict_to_save, save_path):\n",
    "    os.makedirs(os.path.dirname(save_path), exist_ok=True)\n",
    "    rows = list(map(list, zip(*dict_to_save.values())))\n",
    "    with open(save_path, 'w') as f:\n",
    "        w = csv.writer(f)\n",
    "        w.writerow(dict_to_save.keys())\n",
    "        w.writerows(rows)"
   ]
  },
  {
   "cell_type": "code",
   "execution_count": null,
   "metadata": {},
   "outputs": [],
   "source": [
    "generated_texts = inference(nice_test_dataloader, model, processor)"
   ]
  },
  {
   "cell_type": "code",
   "execution_count": null,
   "metadata": {},
   "outputs": [],
   "source": [
    "save_dict_to_csv(generated_texts, result_file_path)"
   ]
  },
  {
   "cell_type": "code",
   "execution_count": null,
   "metadata": {},
   "outputs": [],
   "source": [
    "torch.cuda.empty_cache()"
   ]
  }
 ],
 "metadata": {
  "kernelspec": {
   "display_name": "my_env_NICE",
   "language": "python",
   "name": "python3"
  },
  "language_info": {
   "codemirror_mode": {
    "name": "ipython",
    "version": 3
   },
   "file_extension": ".py",
   "mimetype": "text/x-python",
   "name": "python",
   "nbconvert_exporter": "python",
   "pygments_lexer": "ipython3",
   "version": "3.9.16"
  },
  "orig_nbformat": 4
 },
 "nbformat": 4,
 "nbformat_minor": 2
}
