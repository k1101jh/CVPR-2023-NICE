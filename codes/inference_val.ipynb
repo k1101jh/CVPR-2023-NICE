{
 "cells": [
  {
   "cell_type": "code",
   "execution_count": null,
   "metadata": {},
   "outputs": [],
   "source": [
    "from PIL import Image\n",
    "import torch\n",
    "import numpy as np\n",
    "\n",
    "from utils import show_image_caption"
   ]
  },
  {
   "cell_type": "code",
   "execution_count": null,
   "metadata": {},
   "outputs": [],
   "source": [
    "device = 'cuda'\n",
    "print('Use ', torch.cuda.get_device_name(device))"
   ]
  },
  {
   "cell_type": "code",
   "execution_count": null,
   "metadata": {},
   "outputs": [],
   "source": [
    "checkpoint = \"Salesforce/blip2-opt-2.7b\"\n",
    "result_save_path = '../results/coco_val_blip2.csv'\n",
    "dtype = torch.float32\n",
    "batch_size = 16\n",
    "num_workers = 8\n",
    "max_new_tokens = 50"
   ]
  },
  {
   "attachments": {},
   "cell_type": "markdown",
   "metadata": {},
   "source": [
    "### Processor"
   ]
  },
  {
   "cell_type": "code",
   "execution_count": null,
   "metadata": {},
   "outputs": [],
   "source": [
    "from transformers import Blip2Processor\n",
    "\n",
    "processor = Blip2Processor.from_pretrained(\n",
    "    checkpoint,\n",
    "    cache_dir='../pretrained_files',\n",
    ")\n"
   ]
  },
  {
   "attachments": {},
   "cell_type": "markdown",
   "metadata": {},
   "source": [
    "### Model"
   ]
  },
  {
   "cell_type": "code",
   "execution_count": null,
   "metadata": {},
   "outputs": [],
   "source": [
    "# device_map = \"auto\" 로 했을 때 다음과 같았음\n",
    "\n",
    "devices = [4, 5]\n",
    "\n",
    "device_map = {\n",
    "    \"query_tokens\": devices[0],\n",
    "    \"vision_model.embeddings\": devices[0],\n",
    "    \"vision_model.encoder.layers.0\": devices[0],\n",
    "    \"vision_model.encoder.layers.1\": devices[0],\n",
    "    \"vision_model.encoder.layers.2\": devices[0],\n",
    "    \"vision_model.encoder.layers.3\": devices[0],\n",
    "    \"vision_model.encoder.layers.4\": devices[0],\n",
    "    \"vision_model.encoder.layers.5\": devices[0],\n",
    "    \"vision_model.encoder.layers.6\": devices[0],\n",
    "    \"vision_model.encoder.layers.7\": devices[0],\n",
    "    \"vision_model.encoder.layers.8\": devices[0],\n",
    "    \"vision_model.encoder.layers.9\": devices[0],\n",
    "    \"vision_model.encoder.layers.10\": devices[0],\n",
    "    \"vision_model.encoder.layers.11\": devices[0],\n",
    "    \"vision_model.encoder.layers.12\": devices[0],\n",
    "    \"vision_model.encoder.layers.13\": devices[0],\n",
    "    \"vision_model.encoder.layers.14\": devices[0],\n",
    "    \"vision_model.encoder.layers.15\": devices[0],\n",
    "    \"vision_model.encoder.layers.16\": devices[0],\n",
    "    \"vision_model.encoder.layers.17\": devices[0],\n",
    "    \"vision_model.encoder.layers.18\": devices[0],\n",
    "    \"vision_model.encoder.layers.19\": devices[0],\n",
    "    \"vision_model.encoder.layers.20\": devices[0],\n",
    "    \"vision_model.encoder.layers.21\": devices[0],\n",
    "    \"vision_model.encoder.layers.22\": devices[0],\n",
    "    \"vision_model.encoder.layers.23\": devices[0],\n",
    "    \"vision_model.encoder.layers.24\": devices[0],\n",
    "    \"vision_model.encoder.layers.25\": devices[0],\n",
    "    \"vision_model.encoder.layers.26\": devices[0],\n",
    "    \"vision_model.encoder.layers.27\": devices[0],\n",
    "    \"vision_model.encoder.layers.28\": devices[0],\n",
    "    \"vision_model.encoder.layers.29\": devices[0],\n",
    "    \"vision_model.encoder.layers.30\": devices[0],\n",
    "    \"vision_model.encoder.layers.31\": devices[0],\n",
    "    \"vision_model.encoder.layers.32\": devices[0],\n",
    "    \"vision_model.encoder.layers.33\": devices[0],\n",
    "    \"vision_model.encoder.layers.34\": devices[0],\n",
    "    \"vision_model.encoder.layers.35\": devices[0],\n",
    "    \"vision_model.encoder.layers.36\": devices[0],\n",
    "    \"vision_model.encoder.layers.38\": devices[0],\n",
    "    \"vision_model.post_layernorm\": devices[0],\n",
    "    \"qformer\": devices[0],\n",
    "    \"language_projection\": devices[0],\n",
    "    \"language_model.model.decoder.embed_tokens\": devices[0],\n",
    "    \"language_model.lm_head\": devices[0],\n",
    "    \"language_model.model.decoder.embed_positions\": devices[0],\n",
    "    \"language_model.model.decoder.final_layer_norm\": devices[0],\n",
    "    \"language_model.model.decoder.layers.0\": devices[0],\n",
    "    \"language_model.model.decoder.layers.1\": devices[0],\n",
    "    \"language_model.model.decoder.layers.2\": devices[0],\n",
    "    \"language_model.model.decoder.layers.3\": devices[0],\n",
    "    \"language_model.model.decoder.layers.4\": devices[0],\n",
    "    \"language_model.model.decoder.layers.5\": devices[0],\n",
    "    \"language_model.model.decoder.layers.6\": devices[1],\n",
    "    \"language_model.model.decoder.layers.7\": devices[1],\n",
    "    \"language_model.model.decoder.layers.8\": devices[1],\n",
    "    \"language_model.model.decoder.layers.9\": devices[1],\n",
    "    \"language_model.model.decoder.layers.10\": devices[1],\n",
    "    \"language_model.model.decoder.layers.11\": devices[1],\n",
    "    \"language_model.model.decoder.layers.12\": devices[1],\n",
    "    \"language_model.model.decoder.layers.13\": devices[1],\n",
    "    \"language_model.model.decoder.layers.14\": devices[1],\n",
    "    \"language_model.model.decoder.layers.15\": devices[1],\n",
    "    \"language_model.model.decoder.layers.16\": devices[1],\n",
    "    \"language_model.model.decoder.layers.17\": devices[1],\n",
    "    \"language_model.model.decoder.layers.18\": devices[1],\n",
    "    \"language_model.model.decoder.layers.19\": devices[1],\n",
    "    \"language_model.model.decoder.layers.20\": devices[1],\n",
    "    \"language_model.model.decoder.layers.21\": devices[1],\n",
    "    \"language_model.model.decoder.layers.22\": devices[1],\n",
    "    \"language_model.model.decoder.layers.23\": devices[1],\n",
    "    \"language_model.model.decoder.layers.24\": devices[1],\n",
    "    \"language_model.model.decoder.layers.25\": devices[1],\n",
    "    \"language_model.model.decoder.layers.26\": devices[1],\n",
    "    \"language_model.model.decoder.layers.27\": devices[1],\n",
    "    \"language_model.model.decoder.layers.28\": devices[1],\n",
    "    \"language_model.model.decoder.layers.29\": devices[1],\n",
    "    \"language_model.model.decoder.layers.30\": devices[1],\n",
    "    \"language_model.model.decoder.layers.31\": devices[1],\n",
    "    \"vision_model.encoder.layers.37\": devices[0]\n",
    "}"
   ]
  },
  {
   "cell_type": "code",
   "execution_count": null,
   "metadata": {},
   "outputs": [],
   "source": [
    "from transformers import Blip2ForConditionalGeneration\n",
    "\n",
    "model = Blip2ForConditionalGeneration.from_pretrained(\n",
    "    checkpoint,\n",
    "    cache_dir='../pretrained_files',\n",
    "    torch_dtype=dtype,\n",
    "    # device_map='auto',\n",
    "    device_map=device_map\n",
    ")"
   ]
  },
  {
   "cell_type": "code",
   "execution_count": null,
   "metadata": {},
   "outputs": [],
   "source": [
    "def denormalize_image(normalized_image, mean, std):\n",
    "    image = normalized_image.numpy().transpose(1, 2, 0)\n",
    "    image = std * image + mean\n",
    "    image = np.clip(image, 0, 1)\n",
    "    \n",
    "    return image"
   ]
  },
  {
   "attachments": {},
   "cell_type": "markdown",
   "metadata": {},
   "source": [
    "### NICE Validation"
   ]
  },
  {
   "cell_type": "code",
   "execution_count": null,
   "metadata": {},
   "outputs": [],
   "source": [
    "from tqdm import tqdm\n",
    "\n",
    "def inference(dataloader, model, processor):\n",
    "    results = {\n",
    "        'public_id': [],\n",
    "        'caption': [],\n",
    "    }\n",
    "\n",
    "    for inputs, labels in tqdm(dataloader):\n",
    "        inputs.to(device, dtype)\n",
    "        generated_ids = model.generate(**inputs, max_new_tokens=max_new_tokens)\n",
    "        generated_texts = [text.strip() for text in processor.batch_decode(generated_ids, skip_special_tokens=True)]\n",
    "        results['public_id'] += labels\n",
    "        results['caption'] += generated_texts\n",
    "        \n",
    "    return results"
   ]
  },
  {
   "cell_type": "code",
   "execution_count": null,
   "metadata": {},
   "outputs": [],
   "source": [
    "import os\n",
    "import csv\n",
    "\n",
    "def save_dict_to_csv(dict_to_save, save_path):\n",
    "    os.makedirs(os.path.dirname(save_path), exist_ok=True)\n",
    "    rows = list(map(list, zip(*dict_to_save.values())))\n",
    "    with open(save_path, 'w') as f:\n",
    "        w = csv.writer(f)\n",
    "        w.writerow(dict_to_save.keys())\n",
    "        w.writerows(rows)"
   ]
  },
  {
   "cell_type": "code",
   "execution_count": null,
   "metadata": {},
   "outputs": [],
   "source": [
    "from dataset_config import nice_dataset_config\n",
    "from torch.utils.data import DataLoader\n",
    "from custom_datasets.nice_dataset import NICETestDataset\n",
    "from datasets import Dataset\n",
    "\n",
    "## NICEValDataset으로 바꾸고 평가 지표 알 수 있도록 하면 좋을듯\n",
    "nice_val_ds = NICETestDataset(\n",
    "    nice_dataset_config['val_image_folder'],\n",
    "    processor.image_processor,\n",
    ")\n",
    "\n",
    "nice_val_dataloader = DataLoader(nice_val_ds, batch_size=batch_size, num_workers=num_workers, shuffle=False, pin_memory=True)"
   ]
  },
  {
   "cell_type": "code",
   "execution_count": null,
   "metadata": {},
   "outputs": [],
   "source": [
    "generated_texts = inference(nice_val_dataloader, model, processor)"
   ]
  },
  {
   "cell_type": "code",
   "execution_count": null,
   "metadata": {},
   "outputs": [],
   "source": [
    "save_dict_to_csv(generated_texts, result_save_path)"
   ]
  }
 ],
 "metadata": {
  "kernelspec": {
   "display_name": "my_env_NICE",
   "language": "python",
   "name": "python3"
  },
  "language_info": {
   "codemirror_mode": {
    "name": "ipython",
    "version": 3
   },
   "file_extension": ".py",
   "mimetype": "text/x-python",
   "name": "python",
   "nbconvert_exporter": "python",
   "pygments_lexer": "ipython3",
   "version": "3.9.16"
  },
  "orig_nbformat": 4
 },
 "nbformat": 4,
 "nbformat_minor": 2
}
