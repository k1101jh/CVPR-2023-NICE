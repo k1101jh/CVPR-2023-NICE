{
 "cells": [
  {
   "cell_type": "code",
   "execution_count": null,
   "metadata": {},
   "outputs": [],
   "source": [
    "from PIL import Image\n",
    "import os\n",
    "import torch\n",
    "import numpy as np\n",
    "\n",
    "from utils import get_device_map\n",
    "\n",
    "os.environ[\"TOKENIZERS_PARALLELISM\"] = \"false\""
   ]
  },
  {
   "cell_type": "code",
   "execution_count": null,
   "metadata": {},
   "outputs": [],
   "source": [
    "devices = [0, 4, 5]\n",
    "start_device = 'cuda:' + str(devices[0])"
   ]
  },
  {
   "cell_type": "code",
   "execution_count": null,
   "metadata": {},
   "outputs": [],
   "source": [
    "checkpoint = \"Salesforce/blip2-opt-2.7b\"\n",
    "result_save_path = '../results/coco_val_blip2.csv'\n",
    "# cache_dir = \"/mnt/nas2/kjh/huggingface_cache\"\n",
    "cache_dir = \"../caches\"\n",
    "cache_pretrained_files_dir = os.path.join(cache_dir, \"pretrained_files\")\n",
    "cache_dataset_dir = os.path.join(cache_dir, \"datasets\")\n",
    "dtype = torch.float16\n",
    "batch_size = 16\n",
    "num_workers = 8\n",
    "max_new_tokens = 50"
   ]
  },
  {
   "attachments": {},
   "cell_type": "markdown",
   "metadata": {},
   "source": [
    "### Processor"
   ]
  },
  {
   "cell_type": "code",
   "execution_count": null,
   "metadata": {},
   "outputs": [],
   "source": [
    "from transformers import Blip2Processor\n",
    "\n",
    "processor = Blip2Processor.from_pretrained(\n",
    "    checkpoint,\n",
    "    cache_dir=cache_pretrained_files_dir,\n",
    ")\n"
   ]
  },
  {
   "attachments": {},
   "cell_type": "markdown",
   "metadata": {},
   "source": [
    "### Model"
   ]
  },
  {
   "cell_type": "code",
   "execution_count": null,
   "metadata": {},
   "outputs": [],
   "source": [
    "from transformers import Blip2ForConditionalGeneration\n",
    "\n",
    "device_map = get_device_map(checkpoint, devices)\n",
    "\n",
    "model = Blip2ForConditionalGeneration.from_pretrained(\n",
    "    checkpoint,\n",
    "    cache_dir=cache_pretrained_files_dir,\n",
    "    torch_dtype=dtype,\n",
    "    # device_map='auto',\n",
    "    device_map=device_map\n",
    ")"
   ]
  },
  {
   "cell_type": "code",
   "execution_count": null,
   "metadata": {},
   "outputs": [],
   "source": [
    "# Freeze\n",
    "freeze_list = [\n",
    "    model.vision_model,\n",
    "    model.qformer,\n",
    "    model.language_projection,\n",
    "    model.language_model,\n",
    "]\n",
    "\n",
    "for freeze_block in freeze_list:\n",
    "    for name, param in freeze_block.named_parameters():\n",
    "        param.requires_grad = False\n",
    "    freeze_block = freeze_block.eval()"
   ]
  },
  {
   "attachments": {},
   "cell_type": "markdown",
   "metadata": {},
   "source": [
    "### NICE Validation"
   ]
  },
  {
   "cell_type": "code",
   "execution_count": null,
   "metadata": {},
   "outputs": [],
   "source": [
    "def denormalize_image(normalized_image, mean, std):\n",
    "    image = normalized_image.numpy().transpose(1, 2, 0)\n",
    "    image = std * image + mean\n",
    "    image = np.clip(image, 0, 1)\n",
    "    \n",
    "    return image"
   ]
  },
  {
   "cell_type": "code",
   "execution_count": null,
   "metadata": {},
   "outputs": [],
   "source": [
    "from tqdm import tqdm\n",
    "\n",
    "def inference(dataloader, model, processor):\n",
    "    results = {\n",
    "        'public_id': [],\n",
    "        'caption': [],\n",
    "    }\n",
    "\n",
    "    for inputs, filenames in tqdm(dataloader):\n",
    "        inputs.to(start_device, dtype)\n",
    "        generated_ids = model.generate(**inputs, max_new_tokens=max_new_tokens)\n",
    "        generated_texts = [text.strip() for text in processor.batch_decode(generated_ids, skip_special_tokens=True)]\n",
    "        results['public_id'] += filenames\n",
    "        results['caption'] += generated_texts\n",
    "        \n",
    "    return results"
   ]
  },
  {
   "cell_type": "code",
   "execution_count": null,
   "metadata": {},
   "outputs": [],
   "source": [
    "import os\n",
    "import csv\n",
    "\n",
    "def save_dict_to_csv(dict_to_save, save_path):\n",
    "    os.makedirs(os.path.dirname(save_path), exist_ok=True)\n",
    "    rows = list(map(list, zip(*dict_to_save.values())))\n",
    "    with open(save_path, 'w') as f:\n",
    "        w = csv.writer(f)\n",
    "        w.writerow(dict_to_save.keys())\n",
    "        w.writerows(rows)"
   ]
  },
  {
   "cell_type": "code",
   "execution_count": null,
   "metadata": {},
   "outputs": [],
   "source": [
    "from dataset_config import nice_dataset_config\n",
    "from torch.utils.data import DataLoader\n",
    "from custom_datasets.nice_dataset import NICETestDataset\n",
    "from datasets import Dataset\n",
    "\n",
    "## NICEValDataset으로 바꾸고 평가 지표 알 수 있도록 하면 좋을듯\n",
    "nice_val_ds = NICETestDataset(\n",
    "    nice_dataset_config['val_image_folder'],\n",
    "    processor.image_processor,\n",
    ")\n",
    "\n",
    "nice_val_dataloader = DataLoader(nice_val_ds, batch_size=batch_size, num_workers=num_workers, shuffle=False, pin_memory=True)"
   ]
  },
  {
   "cell_type": "code",
   "execution_count": null,
   "metadata": {},
   "outputs": [],
   "source": [
    "generated_texts = inference(nice_val_dataloader, model, processor)"
   ]
  },
  {
   "cell_type": "code",
   "execution_count": null,
   "metadata": {},
   "outputs": [],
   "source": [
    "save_dict_to_csv(generated_texts, result_save_path)"
   ]
  }
 ],
 "metadata": {
  "kernelspec": {
   "display_name": "my_env_NICE",
   "language": "python",
   "name": "python3"
  },
  "language_info": {
   "codemirror_mode": {
    "name": "ipython",
    "version": 3
   },
   "file_extension": ".py",
   "mimetype": "text/x-python",
   "name": "python",
   "nbconvert_exporter": "python",
   "pygments_lexer": "ipython3",
   "version": "3.9.16"
  },
  "orig_nbformat": 4
 },
 "nbformat": 4,
 "nbformat_minor": 2
}
