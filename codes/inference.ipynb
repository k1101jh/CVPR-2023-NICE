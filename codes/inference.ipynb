{
 "cells": [
  {
   "cell_type": "code",
   "execution_count": null,
   "metadata": {},
   "outputs": [],
   "source": [
    "from PIL import Image\n",
    "import torch\n",
    "import numpy as np\n",
    "\n",
    "from utils import show_image_caption"
   ]
  },
  {
   "cell_type": "code",
   "execution_count": null,
   "metadata": {},
   "outputs": [],
   "source": [
    "device = 'cuda'\n",
    "print('Use ', torch.cuda.get_device_name(device))"
   ]
  },
  {
   "cell_type": "code",
   "execution_count": null,
   "metadata": {},
   "outputs": [],
   "source": [
    "checkpoint = \"Salesforce/blip2-opt-2.7b\"\n",
    "dtype = torch.float32"
   ]
  },
  {
   "attachments": {},
   "cell_type": "markdown",
   "metadata": {},
   "source": [
    "### Processor"
   ]
  },
  {
   "cell_type": "code",
   "execution_count": null,
   "metadata": {},
   "outputs": [],
   "source": [
    "from transformers import Blip2Processor\n",
    "\n",
    "processor = Blip2Processor.from_pretrained(\n",
    "    checkpoint,\n",
    "    cache_dir='../pretrained_files',\n",
    ")\n"
   ]
  },
  {
   "attachments": {},
   "cell_type": "markdown",
   "metadata": {},
   "source": [
    "### Model"
   ]
  },
  {
   "cell_type": "code",
   "execution_count": null,
   "metadata": {},
   "outputs": [],
   "source": [
    "# device_map = \"auto\" 로 했을 때 다음과 같았음\n",
    "device_map = {\n",
    "    \"query_tokens\": 0,\n",
    "    \"vision_model.embeddings\": 0,\n",
    "    \"vision_model.encoder.layers.0\": 0,\n",
    "    \"vision_model.encoder.layers.1\": 0,\n",
    "    \"vision_model.encoder.layers.2\": 0,\n",
    "    \"vision_model.encoder.layers.3\": 0,\n",
    "    \"vision_model.encoder.layers.4\": 0,\n",
    "    \"vision_model.encoder.layers.5\": 0,\n",
    "    \"vision_model.encoder.layers.6\": 0,\n",
    "    \"vision_model.encoder.layers.7\": 0,\n",
    "    \"vision_model.encoder.layers.8\": 0,\n",
    "    \"vision_model.encoder.layers.9\": 0,\n",
    "    \"vision_model.encoder.layers.10\": 0,\n",
    "    \"vision_model.encoder.layers.11\": 0,\n",
    "    \"vision_model.encoder.layers.12\": 0,\n",
    "    \"vision_model.encoder.layers.13\": 0,\n",
    "    \"vision_model.encoder.layers.14\": 0,\n",
    "    \"vision_model.encoder.layers.15\": 0,\n",
    "    \"vision_model.encoder.layers.16\": 0,\n",
    "    \"vision_model.encoder.layers.17\": 0,\n",
    "    \"vision_model.encoder.layers.18\": 0,\n",
    "    \"vision_model.encoder.layers.19\": 0,\n",
    "    \"vision_model.encoder.layers.20\": 0,\n",
    "    \"vision_model.encoder.layers.21\": 0,\n",
    "    \"vision_model.encoder.layers.22\": 0,\n",
    "    \"vision_model.encoder.layers.23\": 0,\n",
    "    \"vision_model.encoder.layers.24\": 0,\n",
    "    \"vision_model.encoder.layers.25\": 0,\n",
    "    \"vision_model.encoder.layers.26\": 0,\n",
    "    \"vision_model.encoder.layers.27\": 0,\n",
    "    \"vision_model.encoder.layers.28\": 0,\n",
    "    \"vision_model.encoder.layers.29\": 0,\n",
    "    \"vision_model.encoder.layers.30\": 0,\n",
    "    \"vision_model.encoder.layers.31\": 0,\n",
    "    \"vision_model.encoder.layers.32\": 0,\n",
    "    \"vision_model.encoder.layers.33\": 0,\n",
    "    \"vision_model.encoder.layers.34\": 0,\n",
    "    \"vision_model.encoder.layers.35\": 0,\n",
    "    \"vision_model.encoder.layers.36\": 0,\n",
    "    \"vision_model.encoder.layers.38\": 0,\n",
    "    \"vision_model.post_layernorm\": 0,\n",
    "    \"qformer\": 0,\n",
    "    \"language_projection\": 0,\n",
    "    \"language_model.model.decoder.embed_tokens\": 0,\n",
    "    \"language_model.lm_head\": 0,\n",
    "    \"language_model.model.decoder.embed_positions\": 0,\n",
    "    \"language_model.model.decoder.final_layer_norm\": 0,\n",
    "    \"language_model.model.decoder.layers.0\": 0,\n",
    "    \"language_model.model.decoder.layers.1\": 0,\n",
    "    \"language_model.model.decoder.layers.2\": 0,\n",
    "    \"language_model.model.decoder.layers.3\": 0,\n",
    "    \"language_model.model.decoder.layers.4\": 0,\n",
    "    \"language_model.model.decoder.layers.5\": 0,\n",
    "    \"language_model.model.decoder.layers.6\": 1,\n",
    "    \"language_model.model.decoder.layers.7\": 1,\n",
    "    \"language_model.model.decoder.layers.8\": 1,\n",
    "    \"language_model.model.decoder.layers.9\": 1,\n",
    "    \"language_model.model.decoder.layers.10\": 1,\n",
    "    \"language_model.model.decoder.layers.11\": 1,\n",
    "    \"language_model.model.decoder.layers.12\": 1,\n",
    "    \"language_model.model.decoder.layers.13\": 1,\n",
    "    \"language_model.model.decoder.layers.14\": 1,\n",
    "    \"language_model.model.decoder.layers.15\": 1,\n",
    "    \"language_model.model.decoder.layers.16\": 1,\n",
    "    \"language_model.model.decoder.layers.17\": 1,\n",
    "    \"language_model.model.decoder.layers.18\": 1,\n",
    "    \"language_model.model.decoder.layers.19\": 1,\n",
    "    \"language_model.model.decoder.layers.20\": 1,\n",
    "    \"language_model.model.decoder.layers.21\": 1,\n",
    "    \"language_model.model.decoder.layers.22\": 1,\n",
    "    \"language_model.model.decoder.layers.23\": 1,\n",
    "    \"language_model.model.decoder.layers.24\": 1,\n",
    "    \"language_model.model.decoder.layers.25\": 1,\n",
    "    \"language_model.model.decoder.layers.26\": 1,\n",
    "    \"language_model.model.decoder.layers.27\": 1,\n",
    "    \"language_model.model.decoder.layers.28\": 1,\n",
    "    \"language_model.model.decoder.layers.29\": 1,\n",
    "    \"language_model.model.decoder.layers.30\": 1,\n",
    "    \"language_model.model.decoder.layers.31\": 1,\n",
    "    \"vision_model.encoder.layers.37\": 0\n",
    "}"
   ]
  },
  {
   "cell_type": "code",
   "execution_count": null,
   "metadata": {},
   "outputs": [],
   "source": [
    "from transformers import Blip2ForConditionalGeneration\n",
    "\n",
    "model = Blip2ForConditionalGeneration.from_pretrained(\n",
    "    checkpoint,\n",
    "    cache_dir='../pretrained_files',\n",
    "    torch_dtype=dtype,\n",
    "    # device_map='auto',\n",
    "    device_map=device_map\n",
    ")\n",
    "# model.parallelize(device_map)"
   ]
  },
  {
   "cell_type": "code",
   "execution_count": null,
   "metadata": {},
   "outputs": [],
   "source": [
    "image = '../datasets/cvpr-nice-val/val/215268662.jpg'\n",
    "raw_image = Image.open(image).convert('RGB')\n",
    "\n",
    "inputs = processor(raw_image, return_tensors=\"pt\").to(device, dtype)"
   ]
  },
  {
   "cell_type": "code",
   "execution_count": null,
   "metadata": {},
   "outputs": [],
   "source": [
    "def denormalize_image(normalized_image, mean, std):\n",
    "    image = normalized_image.numpy().transpose(1, 2, 0)\n",
    "    image = std * image + mean\n",
    "    image = np.clip(image, 0, 1)\n",
    "    \n",
    "    return image"
   ]
  },
  {
   "cell_type": "code",
   "execution_count": null,
   "metadata": {},
   "outputs": [],
   "source": [
    "generated_ids = model.generate(**inputs, max_new_tokens=20)\n",
    "generated_text = processor.batch_decode(generated_ids, skip_special_tokens=True)[0].strip()\n",
    "print(generated_text)\n",
    "\n",
    "denormalized_image = denormalize_image(inputs['pixel_values'].cpu()[0], processor.image_processor.image_mean, processor.image_processor.image_std)\n",
    "# show_image_caption(denormalized_image, [generated_text], show_fig=True, save_path='sample.png')\n",
    "show_image_caption(raw_image, [generated_text], show_fig=True)"
   ]
  },
  {
   "attachments": {},
   "cell_type": "markdown",
   "metadata": {},
   "source": [
    "### NICE Validation"
   ]
  },
  {
   "cell_type": "code",
   "execution_count": null,
   "metadata": {},
   "outputs": [],
   "source": [
    "from tqdm import tqdm\n",
    "\n",
    "def inference(dataset, model, processor):\n",
    "    generated_texts = {\n",
    "        'public_id': [],\n",
    "        'caption': [],\n",
    "    }\n",
    "\n",
    "    for inputs, labels in tqdm(dataset):\n",
    "        inputs.to(device, dtype)\n",
    "        generated_ids = model.generate(**inputs, max_new_tokens=20)\n",
    "        generated_text = processor.batch_decode(generated_ids, skip_special_tokens=True)[0].strip()\n",
    "        generated_texts['public_id'].append(labels)\n",
    "        generated_texts['caption'].append(generated_text)\n",
    "        \n",
    "    return generated_texts"
   ]
  },
  {
   "cell_type": "code",
   "execution_count": null,
   "metadata": {},
   "outputs": [],
   "source": [
    "import os\n",
    "import csv\n",
    "\n",
    "def save_dict_to_csv(dict_to_save, save_path):\n",
    "    os.makedirs(os.path.dirname(save_path), exist_ok=True)\n",
    "    rows = list(map(list, zip(*dict_to_save.values())))\n",
    "    with open(save_path, 'w') as f:\n",
    "        w = csv.writer(f, quoting=csv.QUOTE_NONE)\n",
    "        w.writerow(dict_to_save.keys())\n",
    "        w.writerows(rows)"
   ]
  },
  {
   "cell_type": "code",
   "execution_count": null,
   "metadata": {},
   "outputs": [],
   "source": [
    "from dataset_config import nice_dataset_config\n",
    "from torch.utils.data import DataLoader\n",
    "from custom_datasets.nice_dataset import NICETestDataset\n",
    "from datasets import Dataset\n",
    "\n",
    "## NICEValDataset으로 바꾸고 평가 지표 알 수 있도록 하면 좋을듯\n",
    "nice_val_ds = NICETestDataset(\n",
    "    nice_dataset_config['val_image_folder'],\n",
    "    processor.image_processor,\n",
    ")"
   ]
  },
  {
   "cell_type": "code",
   "execution_count": null,
   "metadata": {},
   "outputs": [],
   "source": [
    "generated_texts = inference(nice_val_ds, model, processor)"
   ]
  },
  {
   "cell_type": "code",
   "execution_count": null,
   "metadata": {},
   "outputs": [],
   "source": [
    "save_dict_to_csv(generated_texts, '../results/coco_val_blip2.csv')"
   ]
  },
  {
   "cell_type": "code",
   "execution_count": null,
   "metadata": {},
   "outputs": [],
   "source": [
    "# from datasets import load_dataset\n",
    "# from dataset_config import nice_dataset_config\n",
    "# from custom_datasets.nice_dataset import NICEValDataset\n",
    "\n",
    "# nice_val_ds = NICEValDataset(\n",
    "#     nice_dataset_config['val_image_folder'],\n",
    "#     nice_dataset_config['val_caption_csv'],\n",
    "#     processor.image_processor,\n",
    "# )"
   ]
  },
  {
   "attachments": {},
   "cell_type": "markdown",
   "metadata": {},
   "source": [
    "### NICE Test"
   ]
  },
  {
   "cell_type": "code",
   "execution_count": null,
   "metadata": {},
   "outputs": [],
   "source": [
    "from dataset_config import nice_dataset_config\n",
    "from torch.utils.data import DataLoader\n",
    "from custom_datasets.nice_dataset import NICETestDataset\n",
    "from datasets import Dataset\n",
    "\n",
    "nice_test_ds = NICETestDataset(\n",
    "    nice_dataset_config['test_image_folder'],\n",
    "    processor.image_processor,\n",
    ")"
   ]
  },
  {
   "cell_type": "code",
   "execution_count": null,
   "metadata": {},
   "outputs": [],
   "source": [
    "generated_texts = inference(nice_test_ds, model, processor)"
   ]
  },
  {
   "cell_type": "code",
   "execution_count": null,
   "metadata": {},
   "outputs": [],
   "source": [
    "save_dict_to_csv(generated_texts, '../results/coco_val_blip2.csv')"
   ]
  }
 ],
 "metadata": {
  "kernelspec": {
   "display_name": "my_env_NICE",
   "language": "python",
   "name": "python3"
  },
  "language_info": {
   "codemirror_mode": {
    "name": "ipython",
    "version": 3
   },
   "file_extension": ".py",
   "mimetype": "text/x-python",
   "name": "python",
   "nbconvert_exporter": "python",
   "pygments_lexer": "ipython3",
   "version": "3.9.16"
  },
  "orig_nbformat": 4
 },
 "nbformat": 4,
 "nbformat_minor": 2
}
